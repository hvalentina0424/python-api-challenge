{
 "cells": [
  {
   "cell_type": "markdown",
   "metadata": {},
   "source": [
    "# WeatherPy\n",
    "----\n",
    "\n",
    "#### Note\n",
    "* Instructions have been included for each segment. You do not have to follow them exactly, but they are included to help you think through the steps."
   ]
  },
  {
   "cell_type": "code",
   "execution_count": 59,
   "metadata": {
    "scrolled": true
   },
   "outputs": [
    {
     "name": "stdout",
     "output_type": "stream",
     "text": [
      "Overall Trends\n",
      "------------\n",
      "In the Southern Hemisphere, as latitude increases, temperature increases.\n",
      "In the Northern Hemisphere, as latitude increases, temperature decreases.\n",
      "Wind speed is generally low everywhere, aside from some locations which appear random in terms of latitude.\n"
     ]
    }
   ],
   "source": [
    "# Dependencies and Setup\n",
    "import matplotlib.pyplot as plt\n",
    "import pandas as pd\n",
    "import numpy as np\n",
    "import requests\n",
    "import time\n",
    "from scipy.stats import linregress\n",
    "import os\n",
    "\n",
    "# Import API key\n",
    "from api_keys import weather_api_key\n",
    "\n",
    "# Incorporated citipy to determine city based on latitude and longitude\n",
    "from citipy import citipy\n",
    "\n",
    "# Output File (CSV)\n",
    "output_data_file = \"output_data/cities.csv\"\n",
    "\n",
    "# Range of latitudes and longitudes\n",
    "lat_range = (-90, 90)\n",
    "lng_range = (-180, 180)\n",
    "\n",
    "print('Overall Trends')\n",
    "print(\"------------\")\n",
    "print(\"In the Southern Hemisphere, as latitude increases, temperature increases.\")\n",
    "print(\"In the Northern Hemisphere, as latitude increases, temperature decreases.\")\n",
    "print(\"Wind speed is generally low everywhere, aside from some locations which appear random in terms of latitude.\")"
   ]
  },
  {
   "cell_type": "markdown",
   "metadata": {},
   "source": [
    "## Generate Cities List"
   ]
  },
  {
   "cell_type": "code",
   "execution_count": 3,
   "metadata": {},
   "outputs": [
    {
     "data": {
      "text/plain": [
       "629"
      ]
     },
     "execution_count": 3,
     "metadata": {},
     "output_type": "execute_result"
    }
   ],
   "source": [
    "# List for holding lat_longs and cities\n",
    "lat_lngs = []\n",
    "cities = []\n",
    "\n",
    "# Create a set of random lat and lng combinations\n",
    "lats = np.random.uniform(lat_range[0], lat_range[1], size=1500)\n",
    "lngs = np.random.uniform(lng_range[0], lng_range[1], size=1500)\n",
    "lat_lngs = zip(lats, lngs)\n",
    "\n",
    "# Identify nearest city for each lat, lng combination\n",
    "for lat_lng in lat_lngs:\n",
    "    city = citipy.nearest_city(lat_lng[0], lat_lng[1]).city_name\n",
    "    \n",
    "    # If the city is unique, then add it to a our cities list\n",
    "    if city not in cities:\n",
    "        cities.append(city)\n",
    "\n",
    "# Print the city count to confirm sufficient count\n",
    "len(cities)"
   ]
  },
  {
   "cell_type": "markdown",
   "metadata": {},
   "source": [
    "### Perform API Calls\n",
    "* Perform a weather check on each city using a series of successive API calls.\n",
    "* Include a print log of each city as it'sbeing processed (with the city number and city name).\n"
   ]
  },
  {
   "cell_type": "code",
   "execution_count": 4,
   "metadata": {
    "scrolled": true
   },
   "outputs": [],
   "source": [
    "#base url\n",
    "url='http://api.openweathermap.org/data/2.5/weather?'\n",
    "units='imperial'\n",
    "\n",
    "query_url=f'{url}appid={weather_api_key}&units={units}&q='"
   ]
  },
  {
   "cell_type": "markdown",
   "metadata": {},
   "source": [
    "### Convert Raw Data to DataFrame\n",
    "* Export the city data into a .csv.\n",
    "* Display the DataFrame"
   ]
  },
  {
   "cell_type": "code",
   "execution_count": 5,
   "metadata": {},
   "outputs": [
    {
     "name": "stdout",
     "output_type": "stream",
     "text": [
      "Beginning Data Retrieval\n",
      "-----------------------------\n",
      "Processing Record 1 of 629 | anadyr\n",
      "Processing Record 2 of 629 | ushuaia\n",
      "Processing Record 3 of 629 | lebu\n",
      "Processing Record 4 of 629 | fortuna\n",
      "Processing Record 5 of 629 | saint-philippe\n",
      "Processing Record 6 of 629 | bluff\n",
      "Processing Record 7 of 629 | senno\n",
      "Processing Record 8 of 629 | albany\n",
      "Processing Record 9 of 629 | qaanaaq\n",
      "Processing Record 10 of 629 | kodiak\n",
      "Processing Record 11 of 629 | megion\n",
      "Processing Record 12 of 629 | sohag\n",
      "Processing Record 13 of 629 | hilo\n",
      "Processing Record 14 of 629 | belushya guba\n",
      "belushya guba city not found. Skipping...\n",
      "Processing Record 15 of 629 | rikitea\n",
      "Processing Record 16 of 629 | huarmey\n",
      "Processing Record 17 of 629 | butaritari\n",
      "Processing Record 18 of 629 | huejuquilla el alto\n",
      "Processing Record 19 of 629 | nikolskoye\n",
      "Processing Record 20 of 629 | ponta do sol\n",
      "Processing Record 21 of 629 | chicama\n",
      "Processing Record 22 of 629 | pevek\n",
      "Processing Record 23 of 629 | kashi\n",
      "Processing Record 24 of 629 | rio gallegos\n",
      "Processing Record 25 of 629 | maragogi\n",
      "Processing Record 26 of 629 | kavieng\n",
      "Processing Record 27 of 629 | vila franca do campo\n",
      "Processing Record 28 of 629 | yatou\n",
      "Processing Record 29 of 629 | hithadhoo\n",
      "Processing Record 30 of 629 | sao joao da barra\n",
      "Processing Record 31 of 629 | high level\n",
      "Processing Record 32 of 629 | busselton\n",
      "Processing Record 33 of 629 | mar del plata\n",
      "Processing Record 34 of 629 | gurupi\n",
      "Processing Record 35 of 629 | hofn\n",
      "Processing Record 36 of 629 | codrington\n",
      "Processing Record 37 of 629 | imperatriz\n",
      "Processing Record 38 of 629 | mataura\n",
      "Processing Record 39 of 629 | castro\n",
      "Processing Record 40 of 629 | teguldet\n",
      "Processing Record 41 of 629 | springfield\n",
      "Processing Record 42 of 629 | port alfred\n",
      "Processing Record 43 of 629 | kaitangata\n",
      "Processing Record 44 of 629 | tornio\n",
      "Processing Record 45 of 629 | east london\n",
      "Processing Record 46 of 629 | mahebourg\n",
      "Processing Record 47 of 629 | nemuro\n",
      "Processing Record 48 of 629 | thompson\n",
      "Processing Record 49 of 629 | markova\n",
      "Processing Record 50 of 629 | tsihombe\n",
      "tsihombe city not found. Skipping...\n",
      "Processing Record 51 of 629 | ribeira grande\n",
      "Processing Record 52 of 629 | krasnoselkup\n",
      "Processing Record 53 of 629 | hualmay\n",
      "Processing Record 54 of 629 | bredasdorp\n",
      "Processing Record 55 of 629 | saldanha\n",
      "Processing Record 56 of 629 | tacna\n",
      "Processing Record 57 of 629 | lumeje\n",
      "Processing Record 58 of 629 | new norfolk\n",
      "Processing Record 59 of 629 | jimo\n",
      "Processing Record 60 of 629 | jamestown\n",
      "Processing Record 61 of 629 | mandalgovi\n",
      "Processing Record 62 of 629 | arraial do cabo\n",
      "Processing Record 63 of 629 | susuman\n",
      "Processing Record 64 of 629 | afua\n",
      "Processing Record 65 of 629 | mariental\n",
      "Processing Record 66 of 629 | hermanus\n",
      "Processing Record 67 of 629 | georgetown\n",
      "Processing Record 68 of 629 | saint george\n",
      "Processing Record 69 of 629 | amderma\n",
      "amderma city not found. Skipping...\n",
      "Processing Record 70 of 629 | roald\n",
      "Processing Record 71 of 629 | kalanguy\n",
      "Processing Record 72 of 629 | puerto ayora\n",
      "Processing Record 73 of 629 | wuzhou\n",
      "Processing Record 74 of 629 | jalingo\n",
      "Processing Record 75 of 629 | ilulissat\n",
      "Processing Record 76 of 629 | cedral\n",
      "Processing Record 77 of 629 | port elizabeth\n",
      "Processing Record 78 of 629 | mogocha\n",
      "Processing Record 79 of 629 | khanu woralaksaburi\n",
      "Processing Record 80 of 629 | florence\n",
      "Processing Record 81 of 629 | muromtsevo\n",
      "Processing Record 82 of 629 | zachagansk\n",
      "zachagansk city not found. Skipping...\n",
      "Processing Record 83 of 629 | hobart\n",
      "Processing Record 84 of 629 | kirakira\n",
      "Processing Record 85 of 629 | bolobo\n",
      "Processing Record 86 of 629 | chuy\n",
      "Processing Record 87 of 629 | itatinga\n",
      "Processing Record 88 of 629 | punta arenas\n",
      "Processing Record 89 of 629 | timberlake\n",
      "Processing Record 90 of 629 | berlevag\n",
      "Processing Record 91 of 629 | umzimvubu\n",
      "umzimvubu city not found. Skipping...\n",
      "Processing Record 92 of 629 | raglan\n",
      "Processing Record 93 of 629 | vanimo\n",
      "Processing Record 94 of 629 | katsuura\n",
      "Processing Record 95 of 629 | peterhead\n",
      "Processing Record 96 of 629 | bako\n",
      "Processing Record 97 of 629 | sistranda\n",
      "Processing Record 98 of 629 | yellowknife\n",
      "Processing Record 99 of 629 | gossas\n",
      "Processing Record 100 of 629 | erenhot\n",
      "Processing Record 101 of 629 | atuona\n",
      "Processing Record 102 of 629 | frumosu\n",
      "Processing Record 103 of 629 | barentsburg\n",
      "barentsburg city not found. Skipping...\n",
      "Processing Record 104 of 629 | tabiauea\n",
      "tabiauea city not found. Skipping...\n",
      "Processing Record 105 of 629 | taolanaro\n",
      "taolanaro city not found. Skipping...\n",
      "Processing Record 106 of 629 | avarua\n",
      "Processing Record 107 of 629 | kimbe\n",
      "Processing Record 108 of 629 | palu\n",
      "Processing Record 109 of 629 | kabalo\n",
      "Processing Record 110 of 629 | hua hin\n",
      "Processing Record 111 of 629 | mocambique\n",
      "mocambique city not found. Skipping...\n",
      "Processing Record 112 of 629 | esperance\n",
      "Processing Record 113 of 629 | luderitz\n",
      "Processing Record 114 of 629 | kathu\n",
      "Processing Record 115 of 629 | tuktoyaktuk\n",
      "Processing Record 116 of 629 | hami\n",
      "Processing Record 117 of 629 | koumac\n",
      "Processing Record 118 of 629 | trairi\n",
      "Processing Record 119 of 629 | dzerzhinsk\n",
      "Processing Record 120 of 629 | sangar\n",
      "Processing Record 121 of 629 | cape town\n",
      "Processing Record 122 of 629 | norman wells\n",
      "Processing Record 123 of 629 | hamilton\n",
      "Processing Record 124 of 629 | dolbeau\n",
      "dolbeau city not found. Skipping...\n",
      "Processing Record 125 of 629 | mys shmidta\n",
      "mys shmidta city not found. Skipping...\n",
      "Processing Record 126 of 629 | la ronge\n",
      "Processing Record 127 of 629 | nizhneyansk\n",
      "nizhneyansk city not found. Skipping...\n",
      "Processing Record 128 of 629 | chabahar\n",
      "Processing Record 129 of 629 | guajara-mirim\n",
      "guajara-mirim city not found. Skipping...\n",
      "Processing Record 130 of 629 | vaitupu\n",
      "vaitupu city not found. Skipping...\n",
      "Processing Record 131 of 629 | karamea\n",
      "karamea city not found. Skipping...\n",
      "Processing Record 132 of 629 | blankenberge\n",
      "Processing Record 133 of 629 | barrow\n",
      "Processing Record 134 of 629 | avera\n",
      "Processing Record 135 of 629 | carlton\n",
      "Processing Record 136 of 629 | bethel\n",
      "Processing Record 137 of 629 | mudon\n",
      "Processing Record 138 of 629 | meulaboh\n",
      "Processing Record 139 of 629 | kaihua\n",
      "Processing Record 140 of 629 | kapaa\n",
      "Processing Record 141 of 629 | yuancheng\n",
      "Processing Record 142 of 629 | bengkulu\n",
      "Processing Record 143 of 629 | sfantu gheorghe\n",
      "Processing Record 144 of 629 | lala\n",
      "Processing Record 145 of 629 | nampula\n",
      "Processing Record 146 of 629 | vila velha\n",
      "Processing Record 147 of 629 | klamath falls\n",
      "Processing Record 148 of 629 | perth\n",
      "Processing Record 149 of 629 | aklavik\n",
      "Processing Record 150 of 629 | kavaratti\n",
      "Processing Record 151 of 629 | manuk mangkaw\n",
      "Processing Record 152 of 629 | tiksi\n",
      "Processing Record 153 of 629 | lorengau\n",
      "Processing Record 154 of 629 | deniliquin\n",
      "Processing Record 155 of 629 | lagoa\n",
      "Processing Record 156 of 629 | tasiilaq\n",
      "Processing Record 157 of 629 | linxia\n",
      "Processing Record 158 of 629 | remanso\n",
      "Processing Record 159 of 629 | singaraja\n",
      "Processing Record 160 of 629 | makakilo city\n",
      "Processing Record 161 of 629 | barawe\n",
      "barawe city not found. Skipping...\n",
      "Processing Record 162 of 629 | khatanga\n",
      "Processing Record 163 of 629 | cidreira\n",
      "Processing Record 164 of 629 | illoqqortoormiut\n",
      "illoqqortoormiut city not found. Skipping...\n",
      "Processing Record 165 of 629 | manzhouli\n",
      "Processing Record 166 of 629 | torbay\n",
      "Processing Record 167 of 629 | korla\n",
      "Processing Record 168 of 629 | chernyshkovskiy\n",
      "Processing Record 169 of 629 | hasaki\n",
      "Processing Record 170 of 629 | jardim\n",
      "Processing Record 171 of 629 | sechura\n",
      "Processing Record 172 of 629 | wanning\n",
      "Processing Record 173 of 629 | chumikan\n",
      "Processing Record 174 of 629 | asau\n",
      "Processing Record 175 of 629 | kem\n",
      "Processing Record 176 of 629 | broome\n",
      "Processing Record 177 of 629 | sao filipe\n",
      "Processing Record 178 of 629 | doha\n",
      "Processing Record 179 of 629 | la gomera\n",
      "Processing Record 180 of 629 | longyearbyen\n",
      "Processing Record 181 of 629 | poiares\n",
      "Processing Record 182 of 629 | geraldton\n",
      "Processing Record 183 of 629 | nanortalik\n",
      "Processing Record 184 of 629 | dentsville\n",
      "Processing Record 185 of 629 | san cristobal\n",
      "Processing Record 186 of 629 | opportunity\n",
      "Processing Record 187 of 629 | maslovare\n",
      "Processing Record 188 of 629 | clyde river\n",
      "Processing Record 189 of 629 | shenzhen\n"
     ]
    },
    {
     "name": "stdout",
     "output_type": "stream",
     "text": [
      "Processing Record 190 of 629 | ruteng\n",
      "Processing Record 191 of 629 | inta\n",
      "Processing Record 192 of 629 | chokurdakh\n",
      "Processing Record 193 of 629 | bilibino\n",
      "Processing Record 194 of 629 | manyana\n",
      "Processing Record 195 of 629 | biltine\n",
      "Processing Record 196 of 629 | vincennes\n",
      "Processing Record 197 of 629 | pacific grove\n",
      "Processing Record 198 of 629 | rocha\n",
      "Processing Record 199 of 629 | atlantic city\n",
      "Processing Record 200 of 629 | camapua\n",
      "Processing Record 201 of 629 | inongo\n",
      "Processing Record 202 of 629 | pochutla\n",
      "Processing Record 203 of 629 | chapais\n",
      "Processing Record 204 of 629 | luanda\n",
      "Processing Record 205 of 629 | walvis bay\n",
      "Processing Record 206 of 629 | bathsheba\n",
      "Processing Record 207 of 629 | ternate\n",
      "Processing Record 208 of 629 | haines junction\n",
      "Processing Record 209 of 629 | port blair\n",
      "Processing Record 210 of 629 | bojnurd\n",
      "Processing Record 211 of 629 | marcona\n",
      "marcona city not found. Skipping...\n",
      "Processing Record 212 of 629 | velizh\n",
      "Processing Record 213 of 629 | awbari\n",
      "Processing Record 214 of 629 | cairns\n",
      "Processing Record 215 of 629 | victoria\n",
      "Processing Record 216 of 629 | mitsamiouli\n",
      "Processing Record 217 of 629 | upernavik\n",
      "Processing Record 218 of 629 | flinders\n",
      "Processing Record 219 of 629 | marsh harbour\n",
      "Processing Record 220 of 629 | christchurch\n",
      "Processing Record 221 of 629 | umm kaddadah\n",
      "Processing Record 222 of 629 | abu samrah\n",
      "Processing Record 223 of 629 | cannes\n",
      "Processing Record 224 of 629 | mbanza-ngungu\n",
      "Processing Record 225 of 629 | lenger\n",
      "Processing Record 226 of 629 | aswan\n",
      "Processing Record 227 of 629 | wulanhaote\n",
      "wulanhaote city not found. Skipping...\n",
      "Processing Record 228 of 629 | bambous virieux\n",
      "Processing Record 229 of 629 | vaini\n",
      "Processing Record 230 of 629 | constitucion\n",
      "Processing Record 231 of 629 | laguna\n",
      "Processing Record 232 of 629 | vung tau\n",
      "Processing Record 233 of 629 | sambava\n",
      "Processing Record 234 of 629 | naze\n",
      "Processing Record 235 of 629 | jalu\n",
      "Processing Record 236 of 629 | verkhnyaya khava\n",
      "Processing Record 237 of 629 | isangel\n",
      "Processing Record 238 of 629 | dikson\n",
      "Processing Record 239 of 629 | moussoro\n",
      "Processing Record 240 of 629 | arlit\n",
      "Processing Record 241 of 629 | honiara\n",
      "Processing Record 242 of 629 | remedios\n",
      "Processing Record 243 of 629 | iqaluit\n",
      "Processing Record 244 of 629 | cherskiy\n",
      "Processing Record 245 of 629 | santa isabel\n",
      "Processing Record 246 of 629 | severo-kurilsk\n",
      "Processing Record 247 of 629 | superior\n",
      "Processing Record 248 of 629 | pingdingshan\n",
      "Processing Record 249 of 629 | kabanjahe\n",
      "Processing Record 250 of 629 | moen\n",
      "Processing Record 251 of 629 | oberhausen-rheinhausen\n",
      "Processing Record 252 of 629 | laiagam\n",
      "laiagam city not found. Skipping...\n",
      "Processing Record 253 of 629 | harper\n",
      "Processing Record 254 of 629 | grand centre\n",
      "grand centre city not found. Skipping...\n",
      "Processing Record 255 of 629 | safwah\n",
      "safwah city not found. Skipping...\n",
      "Processing Record 256 of 629 | pascagoula\n",
      "Processing Record 257 of 629 | san quintin\n",
      "Processing Record 258 of 629 | nago\n",
      "Processing Record 259 of 629 | kutum\n",
      "Processing Record 260 of 629 | burgeo\n",
      "Processing Record 261 of 629 | kemin\n",
      "Processing Record 262 of 629 | sisimiut\n",
      "Processing Record 263 of 629 | acapulco\n",
      "Processing Record 264 of 629 | tchamba\n",
      "Processing Record 265 of 629 | kudahuvadhoo\n",
      "Processing Record 266 of 629 | atar\n",
      "Processing Record 267 of 629 | saint-pierre\n",
      "Processing Record 268 of 629 | hovd\n",
      "Processing Record 269 of 629 | kazalinsk\n",
      "kazalinsk city not found. Skipping...\n",
      "Processing Record 270 of 629 | te anau\n",
      "Processing Record 271 of 629 | boguchany\n",
      "Processing Record 272 of 629 | college\n",
      "Processing Record 273 of 629 | oussouye\n",
      "Processing Record 274 of 629 | san vicente\n",
      "Processing Record 275 of 629 | dalby\n",
      "Processing Record 276 of 629 | kokopo\n",
      "Processing Record 277 of 629 | nantucket\n",
      "Processing Record 278 of 629 | porto novo\n",
      "Processing Record 279 of 629 | airai\n",
      "Processing Record 280 of 629 | olafsvik\n",
      "Processing Record 281 of 629 | faanui\n",
      "Processing Record 282 of 629 | louisbourg\n",
      "louisbourg city not found. Skipping...\n",
      "Processing Record 283 of 629 | maykain\n",
      "maykain city not found. Skipping...\n",
      "Processing Record 284 of 629 | kunjah\n",
      "Processing Record 285 of 629 | berbera\n",
      "Processing Record 286 of 629 | san felipe\n",
      "Processing Record 287 of 629 | chagda\n",
      "chagda city not found. Skipping...\n",
      "Processing Record 288 of 629 | iralaya\n",
      "Processing Record 289 of 629 | coahuayana\n",
      "Processing Record 290 of 629 | ilheus\n",
      "Processing Record 291 of 629 | sharanga\n",
      "Processing Record 292 of 629 | esmeraldas\n",
      "Processing Record 293 of 629 | fairbanks\n",
      "Processing Record 294 of 629 | dunedin\n",
      "Processing Record 295 of 629 | leningradskiy\n",
      "Processing Record 296 of 629 | pitanga\n",
      "Processing Record 297 of 629 | vardo\n",
      "Processing Record 298 of 629 | kruisfontein\n",
      "Processing Record 299 of 629 | nueva concepcion\n",
      "Processing Record 300 of 629 | dawei\n",
      "Processing Record 301 of 629 | ayer itam\n",
      "ayer itam city not found. Skipping...\n",
      "Processing Record 302 of 629 | west wendover\n",
      "Processing Record 303 of 629 | le port\n",
      "Processing Record 304 of 629 | cabo san lucas\n",
      "Processing Record 305 of 629 | srednekolymsk\n",
      "Processing Record 306 of 629 | port hardy\n",
      "Processing Record 307 of 629 | bossembele\n",
      "bossembele city not found. Skipping...\n",
      "Processing Record 308 of 629 | churachandpur\n",
      "Processing Record 309 of 629 | port-cartier\n",
      "Processing Record 310 of 629 | beloha\n",
      "Processing Record 311 of 629 | gouyave\n",
      "Processing Record 312 of 629 | ancud\n",
      "Processing Record 313 of 629 | waipawa\n",
      "Processing Record 314 of 629 | los llanos de aridane\n",
      "Processing Record 315 of 629 | aksarayskiy\n",
      "Processing Record 316 of 629 | taoudenni\n",
      "Processing Record 317 of 629 | mocuba\n",
      "Processing Record 318 of 629 | vao\n",
      "Processing Record 319 of 629 | portland\n",
      "Processing Record 320 of 629 | puerto escondido\n",
      "Processing Record 321 of 629 | beringovskiy\n",
      "Processing Record 322 of 629 | nuuk\n",
      "Processing Record 323 of 629 | usinsk\n",
      "Processing Record 324 of 629 | aleksandrov gay\n",
      "Processing Record 325 of 629 | sataua\n",
      "sataua city not found. Skipping...\n",
      "Processing Record 326 of 629 | narsaq\n",
      "Processing Record 327 of 629 | iquitos\n",
      "Processing Record 328 of 629 | bonavista\n",
      "Processing Record 329 of 629 | murgab\n",
      "Processing Record 330 of 629 | carutapera\n",
      "Processing Record 331 of 629 | nhulunbuy\n",
      "Processing Record 332 of 629 | salalah\n",
      "Processing Record 333 of 629 | carnarvon\n",
      "Processing Record 334 of 629 | husavik\n",
      "Processing Record 335 of 629 | klaksvik\n",
      "Processing Record 336 of 629 | egvekinot\n",
      "Processing Record 337 of 629 | poum\n",
      "Processing Record 338 of 629 | nanga eboko\n",
      "Processing Record 339 of 629 | floro\n",
      "Processing Record 340 of 629 | fujin\n",
      "Processing Record 341 of 629 | yashan\n",
      "Processing Record 342 of 629 | tuatapere\n",
      "Processing Record 343 of 629 | minnedosa\n",
      "Processing Record 344 of 629 | shingu\n",
      "Processing Record 345 of 629 | ha tinh\n",
      "Processing Record 346 of 629 | buchanan\n",
      "Processing Record 347 of 629 | torit\n",
      "Processing Record 348 of 629 | gold coast\n",
      "Processing Record 349 of 629 | madimba\n",
      "Processing Record 350 of 629 | eydhafushi\n",
      "Processing Record 351 of 629 | nguiu\n",
      "nguiu city not found. Skipping...\n",
      "Processing Record 352 of 629 | sitka\n",
      "Processing Record 353 of 629 | hambantota\n",
      "Processing Record 354 of 629 | alofi\n",
      "Processing Record 355 of 629 | batagay\n",
      "Processing Record 356 of 629 | jiblah\n",
      "Processing Record 357 of 629 | bonfim\n",
      "Processing Record 358 of 629 | zapolyarnyy\n",
      "Processing Record 359 of 629 | karanpura\n",
      "Processing Record 360 of 629 | takoradi\n",
      "Processing Record 361 of 629 | florianopolis\n",
      "Processing Record 362 of 629 | ballina\n",
      "Processing Record 363 of 629 | sinnamary\n",
      "Processing Record 364 of 629 | yarmouth\n",
      "Processing Record 365 of 629 | cilegon\n",
      "Processing Record 366 of 629 | bubaque\n",
      "Processing Record 367 of 629 | saskylakh\n",
      "Processing Record 368 of 629 | east wenatchee bench\n",
      "Processing Record 369 of 629 | krasnovishersk\n",
      "Processing Record 370 of 629 | flin flon\n",
      "Processing Record 371 of 629 | zhanakorgan\n",
      "Processing Record 372 of 629 | umm jarr\n",
      "umm jarr city not found. Skipping...\n",
      "Processing Record 373 of 629 | gigmoto\n",
      "Processing Record 374 of 629 | aitape\n",
      "Processing Record 375 of 629 | silikatnyy\n",
      "Processing Record 376 of 629 | soyo\n",
      "Processing Record 377 of 629 | mbaiki\n",
      "Processing Record 378 of 629 | nalut\n",
      "Processing Record 379 of 629 | quang ngai\n"
     ]
    },
    {
     "name": "stdout",
     "output_type": "stream",
     "text": [
      "Processing Record 380 of 629 | gubkinskiy\n",
      "Processing Record 381 of 629 | shar\n",
      "Processing Record 382 of 629 | road town\n",
      "Processing Record 383 of 629 | savannah bight\n",
      "Processing Record 384 of 629 | petropavlovsk-kamchatskiy\n",
      "Processing Record 385 of 629 | korcula\n",
      "Processing Record 386 of 629 | male\n",
      "Processing Record 387 of 629 | farafangana\n",
      "Processing Record 388 of 629 | muros\n",
      "Processing Record 389 of 629 | alice springs\n",
      "Processing Record 390 of 629 | cienfuegos\n",
      "Processing Record 391 of 629 | varlamovo\n",
      "Processing Record 392 of 629 | morgan city\n",
      "Processing Record 393 of 629 | ushtobe\n",
      "Processing Record 394 of 629 | oranjemund\n",
      "Processing Record 395 of 629 | katobu\n",
      "Processing Record 396 of 629 | provideniya\n",
      "Processing Record 397 of 629 | dudinka\n",
      "Processing Record 398 of 629 | manzil salim\n",
      "Processing Record 399 of 629 | cantanhede\n",
      "Processing Record 400 of 629 | sao borja\n",
      "Processing Record 401 of 629 | alekseyevka\n",
      "Processing Record 402 of 629 | ayan\n",
      "Processing Record 403 of 629 | ferrol\n",
      "Processing Record 404 of 629 | wahran\n",
      "wahran city not found. Skipping...\n",
      "Processing Record 405 of 629 | waterford\n",
      "Processing Record 406 of 629 | hashtrud\n",
      "Processing Record 407 of 629 | caravelas\n",
      "Processing Record 408 of 629 | touros\n",
      "Processing Record 409 of 629 | plettenberg bay\n",
      "Processing Record 410 of 629 | ust-nera\n",
      "Processing Record 411 of 629 | singaparna\n",
      "Processing Record 412 of 629 | turkan\n",
      "Processing Record 413 of 629 | kikwit\n",
      "Processing Record 414 of 629 | port lincoln\n",
      "Processing Record 415 of 629 | kenai\n",
      "Processing Record 416 of 629 | sioux lookout\n",
      "Processing Record 417 of 629 | resistencia\n",
      "Processing Record 418 of 629 | wajir\n",
      "Processing Record 419 of 629 | buraydah\n",
      "Processing Record 420 of 629 | tumbagaan\n",
      "Processing Record 421 of 629 | braslav\n",
      "braslav city not found. Skipping...\n",
      "Processing Record 422 of 629 | sentyabrskiy\n",
      "sentyabrskiy city not found. Skipping...\n",
      "Processing Record 423 of 629 | buala\n",
      "Processing Record 424 of 629 | chom bung\n",
      "chom bung city not found. Skipping...\n",
      "Processing Record 425 of 629 | ha giang\n",
      "Processing Record 426 of 629 | peniche\n",
      "Processing Record 427 of 629 | lavrentiya\n",
      "Processing Record 428 of 629 | pisco\n",
      "Processing Record 429 of 629 | gryazi\n",
      "Processing Record 430 of 629 | zuwarah\n",
      "Processing Record 431 of 629 | lazaro cardenas\n",
      "Processing Record 432 of 629 | nishihara\n",
      "Processing Record 433 of 629 | attawapiskat\n",
      "attawapiskat city not found. Skipping...\n",
      "Processing Record 434 of 629 | bailleul\n",
      "Processing Record 435 of 629 | tawau\n",
      "Processing Record 436 of 629 | kawalu\n",
      "Processing Record 437 of 629 | sovetskiy\n",
      "Processing Record 438 of 629 | paamiut\n",
      "Processing Record 439 of 629 | ardakan\n",
      "Processing Record 440 of 629 | kudat\n",
      "Processing Record 441 of 629 | nioro\n",
      "Processing Record 442 of 629 | hay river\n",
      "Processing Record 443 of 629 | kosa\n",
      "Processing Record 444 of 629 | petrovsk\n",
      "Processing Record 445 of 629 | novo aripuana\n",
      "Processing Record 446 of 629 | jiaohe\n",
      "Processing Record 447 of 629 | grand river south east\n",
      "grand river south east city not found. Skipping...\n",
      "Processing Record 448 of 629 | vaitape\n",
      "Processing Record 449 of 629 | rincon\n",
      "Processing Record 450 of 629 | ahipara\n",
      "Processing Record 451 of 629 | lac du bonnet\n",
      "Processing Record 452 of 629 | khanpur\n",
      "Processing Record 453 of 629 | bull savanna\n",
      "Processing Record 454 of 629 | humberto de campos\n",
      "Processing Record 455 of 629 | skowhegan\n",
      "Processing Record 456 of 629 | parrita\n",
      "Processing Record 457 of 629 | dandong\n",
      "Processing Record 458 of 629 | mount gambier\n",
      "Processing Record 459 of 629 | saint-joseph\n",
      "Processing Record 460 of 629 | kaeo\n",
      "Processing Record 461 of 629 | belyye berega\n",
      "Processing Record 462 of 629 | mabaruma\n",
      "Processing Record 463 of 629 | sillamae\n",
      "Processing Record 464 of 629 | makokou\n",
      "Processing Record 465 of 629 | esik\n",
      "Processing Record 466 of 629 | harrow\n",
      "Processing Record 467 of 629 | guangyuan\n",
      "Processing Record 468 of 629 | praya\n",
      "Processing Record 469 of 629 | nivala\n",
      "Processing Record 470 of 629 | wolfsburg\n",
      "Processing Record 471 of 629 | kununurra\n",
      "Processing Record 472 of 629 | cotija\n",
      "cotija city not found. Skipping...\n",
      "Processing Record 473 of 629 | eureka\n",
      "Processing Record 474 of 629 | katyuzhanka\n",
      "Processing Record 475 of 629 | samusu\n",
      "samusu city not found. Skipping...\n",
      "Processing Record 476 of 629 | buin\n",
      "Processing Record 477 of 629 | koslan\n",
      "Processing Record 478 of 629 | karratha\n",
      "Processing Record 479 of 629 | lucea\n",
      "Processing Record 480 of 629 | abonnema\n",
      "Processing Record 481 of 629 | altay\n",
      "Processing Record 482 of 629 | henties bay\n",
      "Processing Record 483 of 629 | kiama\n",
      "Processing Record 484 of 629 | namatanai\n",
      "Processing Record 485 of 629 | am timan\n",
      "Processing Record 486 of 629 | severomuysk\n",
      "Processing Record 487 of 629 | manaus\n",
      "Processing Record 488 of 629 | sekoma\n",
      "Processing Record 489 of 629 | bandarbeyla\n",
      "Processing Record 490 of 629 | ochakiv\n",
      "Processing Record 491 of 629 | wajima\n",
      "Processing Record 492 of 629 | shenjiamen\n",
      "Processing Record 493 of 629 | kommunisticheskiy\n",
      "Processing Record 494 of 629 | estelle\n",
      "Processing Record 495 of 629 | aasiaat\n",
      "Processing Record 496 of 629 | mananjary\n",
      "Processing Record 497 of 629 | makarov\n",
      "Processing Record 498 of 629 | dzhebariki-khaya\n",
      "Processing Record 499 of 629 | cap malheureux\n",
      "Processing Record 500 of 629 | merauke\n",
      "Processing Record 501 of 629 | yirol\n",
      "yirol city not found. Skipping...\n",
      "Processing Record 502 of 629 | rungata\n",
      "rungata city not found. Skipping...\n",
      "Processing Record 503 of 629 | ibra\n",
      "Processing Record 504 of 629 | kaseda\n",
      "Processing Record 505 of 629 | lompoc\n",
      "Processing Record 506 of 629 | brattvag\n",
      "Processing Record 507 of 629 | byron bay\n",
      "Processing Record 508 of 629 | bongandanga\n",
      "Processing Record 509 of 629 | quatre cocos\n",
      "Processing Record 510 of 629 | krasnyy chikoy\n",
      "Processing Record 511 of 629 | kamenka\n",
      "Processing Record 512 of 629 | sao raimundo nonato\n",
      "Processing Record 513 of 629 | awjilah\n",
      "Processing Record 514 of 629 | axim\n",
      "Processing Record 515 of 629 | sept-iles\n",
      "Processing Record 516 of 629 | russell\n",
      "Processing Record 517 of 629 | kamenskoye\n",
      "kamenskoye city not found. Skipping...\n",
      "Processing Record 518 of 629 | sobolevo\n",
      "Processing Record 519 of 629 | sao paulo do potengi\n",
      "Processing Record 520 of 629 | shetpe\n",
      "Processing Record 521 of 629 | kashira\n",
      "Processing Record 522 of 629 | agaro\n",
      "Processing Record 523 of 629 | tazovskiy\n",
      "Processing Record 524 of 629 | kushmurun\n",
      "Processing Record 525 of 629 | sur\n",
      "Processing Record 526 of 629 | manzil jamil\n",
      "manzil jamil city not found. Skipping...\n",
      "Processing Record 527 of 629 | burns lake\n",
      "Processing Record 528 of 629 | barbar\n",
      "barbar city not found. Skipping...\n",
      "Processing Record 529 of 629 | mikhaylovka\n",
      "Processing Record 530 of 629 | ouesso\n",
      "Processing Record 531 of 629 | kloulklubed\n",
      "Processing Record 532 of 629 | khani\n",
      "Processing Record 533 of 629 | moose factory\n",
      "Processing Record 534 of 629 | chicla\n",
      "Processing Record 535 of 629 | zastron\n",
      "Processing Record 536 of 629 | nileshwar\n",
      "Processing Record 537 of 629 | monroe\n",
      "Processing Record 538 of 629 | kuusamo\n",
      "Processing Record 539 of 629 | stamsund\n",
      "stamsund city not found. Skipping...\n",
      "Processing Record 540 of 629 | amapa\n",
      "Processing Record 541 of 629 | tiarei\n",
      "Processing Record 542 of 629 | oktyabrskiy\n",
      "Processing Record 543 of 629 | belyy yar\n",
      "Processing Record 544 of 629 | atkinson\n",
      "Processing Record 545 of 629 | solwezi\n",
      "Processing Record 546 of 629 | nogent-le-rotrou\n",
      "Processing Record 547 of 629 | baykit\n",
      "Processing Record 548 of 629 | kuandian\n",
      "Processing Record 549 of 629 | petropavlovka\n",
      "Processing Record 550 of 629 | bargal\n",
      "bargal city not found. Skipping...\n",
      "Processing Record 551 of 629 | namibe\n",
      "Processing Record 552 of 629 | severo-yeniseyskiy\n",
      "Processing Record 553 of 629 | isperih\n",
      "Processing Record 554 of 629 | guerrero negro\n",
      "Processing Record 555 of 629 | steinbach\n",
      "Processing Record 556 of 629 | muravlenko\n",
      "Processing Record 557 of 629 | yar-sale\n",
      "Processing Record 558 of 629 | bismarck\n",
      "Processing Record 559 of 629 | northam\n",
      "Processing Record 560 of 629 | cervo\n",
      "Processing Record 561 of 629 | bensonville\n",
      "Processing Record 562 of 629 | champerico\n",
      "Processing Record 563 of 629 | bunia\n",
      "Processing Record 564 of 629 | molteno\n",
      "Processing Record 565 of 629 | saint-georges\n",
      "Processing Record 566 of 629 | jian\n",
      "Processing Record 567 of 629 | talnakh\n",
      "Processing Record 568 of 629 | rawson\n"
     ]
    },
    {
     "name": "stdout",
     "output_type": "stream",
     "text": [
      "Processing Record 569 of 629 | zhanatas\n",
      "zhanatas city not found. Skipping...\n",
      "Processing Record 570 of 629 | talcahuano\n",
      "Processing Record 571 of 629 | keti bandar\n",
      "Processing Record 572 of 629 | bayangol\n",
      "Processing Record 573 of 629 | acarau\n",
      "Processing Record 574 of 629 | mathathane\n",
      "Processing Record 575 of 629 | pitsunda\n",
      "Processing Record 576 of 629 | luangwa\n",
      "Processing Record 577 of 629 | lagos\n",
      "Processing Record 578 of 629 | laval\n",
      "Processing Record 579 of 629 | sao miguel do araguaia\n",
      "Processing Record 580 of 629 | pitimbu\n",
      "Processing Record 581 of 629 | brenham\n",
      "Processing Record 582 of 629 | lata\n",
      "Processing Record 583 of 629 | grahamstown\n",
      "Processing Record 584 of 629 | bambanglipuro\n",
      "Processing Record 585 of 629 | hearst\n",
      "Processing Record 586 of 629 | surt\n",
      "Processing Record 587 of 629 | druzhnaya gorka\n",
      "Processing Record 588 of 629 | camacha\n",
      "Processing Record 589 of 629 | hope\n",
      "Processing Record 590 of 629 | svetlaya\n",
      "Processing Record 591 of 629 | de-kastri\n",
      "Processing Record 592 of 629 | lokosovo\n",
      "Processing Record 593 of 629 | serowe\n",
      "Processing Record 594 of 629 | ciudad bolivar\n",
      "Processing Record 595 of 629 | amudat\n",
      "Processing Record 596 of 629 | prince rupert\n",
      "Processing Record 597 of 629 | faya\n",
      "Processing Record 598 of 629 | gollere\n",
      "gollere city not found. Skipping...\n",
      "Processing Record 599 of 629 | alotau\n",
      "alotau city not found. Skipping...\n",
      "Processing Record 600 of 629 | nelson bay\n",
      "Processing Record 601 of 629 | hassan\n",
      "Processing Record 602 of 629 | ostrovnoy\n",
      "Processing Record 603 of 629 | tecoanapa\n",
      "Processing Record 604 of 629 | necochea\n",
      "Processing Record 605 of 629 | halifax\n",
      "Processing Record 606 of 629 | venezuela\n",
      "Processing Record 607 of 629 | banda aceh\n",
      "Processing Record 608 of 629 | polson\n",
      "Processing Record 609 of 629 | tateyama\n",
      "Processing Record 610 of 629 | kahului\n",
      "Processing Record 611 of 629 | lieksa\n",
      "Processing Record 612 of 629 | ucluelet\n",
      "Processing Record 613 of 629 | ketchikan\n",
      "Processing Record 614 of 629 | ola\n",
      "Processing Record 615 of 629 | yanaul\n",
      "Processing Record 616 of 629 | kaniama\n",
      "Processing Record 617 of 629 | emerald\n",
      "Processing Record 618 of 629 | chernyy yar\n",
      "Processing Record 619 of 629 | ghanzi\n",
      "Processing Record 620 of 629 | port hawkesbury\n",
      "Processing Record 621 of 629 | yulara\n",
      "Processing Record 622 of 629 | guaymas\n",
      "Processing Record 623 of 629 | mae sai\n",
      "Processing Record 624 of 629 | port keats\n",
      "Processing Record 625 of 629 | novyy urengoy\n",
      "Processing Record 626 of 629 | joao pinheiro\n",
      "Processing Record 627 of 629 | dunda\n",
      "Processing Record 628 of 629 | bilma\n",
      "Processing Record 629 of 629 | hokitika\n"
     ]
    }
   ],
   "source": [
    "#lists for weather characteristics\n",
    "name=[]         \n",
    "cloudiness=[]        \n",
    "country=[]         \n",
    "date=[]         \n",
    "humidity=[]         \n",
    "lat=[]          \n",
    "lng=[]          \n",
    "maxtemp=[]     \n",
    "wind=[] \n",
    "\n",
    "#loop through cities \n",
    "#start counter at 1\n",
    "count=1\n",
    "print('Beginning Data Retrieval')     \n",
    "print('-----------------------------')\n",
    "for city in cities:\n",
    "        response=requests.get(query_url + city).json()\n",
    "        \n",
    "        print('Processing Record ' + str(count) + ' of ' + str(len(cities)) + ' | ' + city)\n",
    "        \n",
    "        try:                                                \n",
    "            name.append(response['name'])\n",
    "            cloudiness.append(response['clouds']['all'])\n",
    "            country.append(response['sys']['country'])\n",
    "            date.append(response['dt'])\n",
    "            humidity.append(response['main']['humidity'])             \n",
    "            lat.append(response['coord']['lat'])\n",
    "            lng.append(response['coord']['lon'])             \n",
    "            maxtemp.append(response['main']['temp_max'])\n",
    "            wind.append(response['wind']['speed'])     \n",
    "        except KeyError:\n",
    "            \n",
    "            print(city + ' city not found. Skipping...') \n",
    "                                                                \n",
    "        count=count+1\n"
   ]
  },
  {
   "cell_type": "code",
   "execution_count": 57,
   "metadata": {},
   "outputs": [
    {
     "data": {
      "text/html": [
       "<div>\n",
       "<style scoped>\n",
       "    .dataframe tbody tr th:only-of-type {\n",
       "        vertical-align: middle;\n",
       "    }\n",
       "\n",
       "    .dataframe tbody tr th {\n",
       "        vertical-align: top;\n",
       "    }\n",
       "\n",
       "    .dataframe thead th {\n",
       "        text-align: right;\n",
       "    }\n",
       "</style>\n",
       "<table border=\"1\" class=\"dataframe\">\n",
       "  <thead>\n",
       "    <tr style=\"text-align: right;\">\n",
       "      <th></th>\n",
       "      <th>City</th>\n",
       "      <th>Country</th>\n",
       "      <th>Date</th>\n",
       "      <th>Lat</th>\n",
       "      <th>Lng</th>\n",
       "      <th>Cloudiness (%)</th>\n",
       "      <th>Humidity (%)</th>\n",
       "      <th>Max Temp (F)</th>\n",
       "      <th>Wind Speed (mph)</th>\n",
       "    </tr>\n",
       "  </thead>\n",
       "  <tbody>\n",
       "    <tr>\n",
       "      <th>0</th>\n",
       "      <td>Anadyr</td>\n",
       "      <td>RU</td>\n",
       "      <td>1659553484</td>\n",
       "      <td>64.7500</td>\n",
       "      <td>177.4833</td>\n",
       "      <td>0</td>\n",
       "      <td>67</td>\n",
       "      <td>57.00</td>\n",
       "      <td>4.00</td>\n",
       "    </tr>\n",
       "    <tr>\n",
       "      <th>1</th>\n",
       "      <td>Ushuaia</td>\n",
       "      <td>AR</td>\n",
       "      <td>1659553552</td>\n",
       "      <td>-54.8000</td>\n",
       "      <td>-68.3000</td>\n",
       "      <td>75</td>\n",
       "      <td>87</td>\n",
       "      <td>42.42</td>\n",
       "      <td>1.14</td>\n",
       "    </tr>\n",
       "    <tr>\n",
       "      <th>2</th>\n",
       "      <td>Lebu</td>\n",
       "      <td>CL</td>\n",
       "      <td>1659553742</td>\n",
       "      <td>-37.6167</td>\n",
       "      <td>-73.6500</td>\n",
       "      <td>50</td>\n",
       "      <td>74</td>\n",
       "      <td>51.87</td>\n",
       "      <td>4.63</td>\n",
       "    </tr>\n",
       "    <tr>\n",
       "      <th>3</th>\n",
       "      <td>Fortuna</td>\n",
       "      <td>US</td>\n",
       "      <td>1659553743</td>\n",
       "      <td>40.5982</td>\n",
       "      <td>-124.1573</td>\n",
       "      <td>20</td>\n",
       "      <td>81</td>\n",
       "      <td>70.93</td>\n",
       "      <td>10.36</td>\n",
       "    </tr>\n",
       "    <tr>\n",
       "      <th>4</th>\n",
       "      <td>Saint-Philippe</td>\n",
       "      <td>RE</td>\n",
       "      <td>1659553743</td>\n",
       "      <td>-21.3585</td>\n",
       "      <td>55.7679</td>\n",
       "      <td>48</td>\n",
       "      <td>83</td>\n",
       "      <td>69.39</td>\n",
       "      <td>8.41</td>\n",
       "    </tr>\n",
       "    <tr>\n",
       "      <th>...</th>\n",
       "      <td>...</td>\n",
       "      <td>...</td>\n",
       "      <td>...</td>\n",
       "      <td>...</td>\n",
       "      <td>...</td>\n",
       "      <td>...</td>\n",
       "      <td>...</td>\n",
       "      <td>...</td>\n",
       "      <td>...</td>\n",
       "    </tr>\n",
       "    <tr>\n",
       "      <th>575</th>\n",
       "      <td>Novy Urengoy</td>\n",
       "      <td>RU</td>\n",
       "      <td>1659553928</td>\n",
       "      <td>66.0833</td>\n",
       "      <td>76.6333</td>\n",
       "      <td>99</td>\n",
       "      <td>58</td>\n",
       "      <td>61.65</td>\n",
       "      <td>3.89</td>\n",
       "    </tr>\n",
       "    <tr>\n",
       "      <th>576</th>\n",
       "      <td>João Pinheiro</td>\n",
       "      <td>BR</td>\n",
       "      <td>1659553929</td>\n",
       "      <td>-17.7425</td>\n",
       "      <td>-46.1725</td>\n",
       "      <td>3</td>\n",
       "      <td>24</td>\n",
       "      <td>85.53</td>\n",
       "      <td>4.52</td>\n",
       "    </tr>\n",
       "    <tr>\n",
       "      <th>577</th>\n",
       "      <td>Dunda</td>\n",
       "      <td>TZ</td>\n",
       "      <td>1659553929</td>\n",
       "      <td>-8.1167</td>\n",
       "      <td>34.2500</td>\n",
       "      <td>7</td>\n",
       "      <td>50</td>\n",
       "      <td>62.78</td>\n",
       "      <td>3.74</td>\n",
       "    </tr>\n",
       "    <tr>\n",
       "      <th>578</th>\n",
       "      <td>Bilma</td>\n",
       "      <td>NE</td>\n",
       "      <td>1659553929</td>\n",
       "      <td>18.6853</td>\n",
       "      <td>12.9164</td>\n",
       "      <td>21</td>\n",
       "      <td>31</td>\n",
       "      <td>94.96</td>\n",
       "      <td>9.08</td>\n",
       "    </tr>\n",
       "    <tr>\n",
       "      <th>579</th>\n",
       "      <td>Hokitika</td>\n",
       "      <td>NZ</td>\n",
       "      <td>1659553930</td>\n",
       "      <td>-42.7167</td>\n",
       "      <td>170.9667</td>\n",
       "      <td>100</td>\n",
       "      <td>86</td>\n",
       "      <td>46.42</td>\n",
       "      <td>5.14</td>\n",
       "    </tr>\n",
       "  </tbody>\n",
       "</table>\n",
       "<p>580 rows × 9 columns</p>\n",
       "</div>"
      ],
      "text/plain": [
       "               City Country        Date      Lat       Lng  Cloudiness (%)  \\\n",
       "0            Anadyr      RU  1659553484  64.7500  177.4833               0   \n",
       "1           Ushuaia      AR  1659553552 -54.8000  -68.3000              75   \n",
       "2              Lebu      CL  1659553742 -37.6167  -73.6500              50   \n",
       "3           Fortuna      US  1659553743  40.5982 -124.1573              20   \n",
       "4    Saint-Philippe      RE  1659553743 -21.3585   55.7679              48   \n",
       "..              ...     ...         ...      ...       ...             ...   \n",
       "575    Novy Urengoy      RU  1659553928  66.0833   76.6333              99   \n",
       "576   João Pinheiro      BR  1659553929 -17.7425  -46.1725               3   \n",
       "577           Dunda      TZ  1659553929  -8.1167   34.2500               7   \n",
       "578           Bilma      NE  1659553929  18.6853   12.9164              21   \n",
       "579        Hokitika      NZ  1659553930 -42.7167  170.9667             100   \n",
       "\n",
       "     Humidity (%)  Max Temp (F)  Wind Speed (mph)  \n",
       "0              67         57.00              4.00  \n",
       "1              87         42.42              1.14  \n",
       "2              74         51.87              4.63  \n",
       "3              81         70.93             10.36  \n",
       "4              83         69.39              8.41  \n",
       "..            ...           ...               ...  \n",
       "575            58         61.65              3.89  \n",
       "576            24         85.53              4.52  \n",
       "577            50         62.78              3.74  \n",
       "578            31         94.96              9.08  \n",
       "579            86         46.42              5.14  \n",
       "\n",
       "[580 rows x 9 columns]"
      ]
     },
     "execution_count": 57,
     "metadata": {},
     "output_type": "execute_result"
    }
   ],
   "source": [
    "#make dictionary for dataframe\n",
    "weatherpydict = {\n",
    "    'City': name,\n",
    "    'Country': country,\n",
    "    'Date': date,\n",
    "    'Lat': lat,\n",
    "    'Lng': lng,\n",
    "    'Cloudiness (%)': cloudiness,\n",
    "    'Humidity (%)': humidity,\n",
    "    'Max Temp (F)': maxtemp,\n",
    "    'Wind Speed (mph)': wind\n",
    "}\n",
    "\n",
    "#create dataframe \n",
    "weatherpydf=pd.DataFrame(weatherpydict)\n",
    "\n",
    "#save as csv\n",
    "weatherpydf.to_csv(os.path.join(\"..\\output_data\", \"weatherpy.csv\"))\n",
    "\n",
    "weatherpydf\n"
   ]
  },
  {
   "cell_type": "markdown",
   "metadata": {},
   "source": [
    "## Inspect the data and remove the cities where the humidity > 100%.\n",
    "----\n",
    "Skip this step if there are no cities that have humidity > 100%. "
   ]
  },
  {
   "cell_type": "code",
   "execution_count": 7,
   "metadata": {},
   "outputs": [
    {
     "name": "stdout",
     "output_type": "stream",
     "text": [
      "100\n",
      "The maximum humidity in the dataset is 100%, so there are no cities to remove.\n"
     ]
    }
   ],
   "source": [
    "#inspect to see if there are cities with a humidity above 100\n",
    "print(weatherpydf[\"Humidity (%)\"].max())\n",
    "\n",
    "print(\"The maximum humidity in the dataset is 100%, so there are no cities to remove.\")"
   ]
  },
  {
   "cell_type": "code",
   "execution_count": 8,
   "metadata": {},
   "outputs": [
    {
     "name": "stdout",
     "output_type": "stream",
     "text": [
      "The maximum humidity in the dataset is 100%, so there are indicies to retrieve.\n"
     ]
    }
   ],
   "source": [
    "#  Get the indices of cities that have humidity over 100%.\n",
    "print(\"The maximum humidity in the dataset is 100%, so there are indicies to retrieve.\")"
   ]
  },
  {
   "cell_type": "code",
   "execution_count": 19,
   "metadata": {
    "scrolled": true
   },
   "outputs": [
    {
     "data": {
      "text/html": [
       "<div>\n",
       "<style scoped>\n",
       "    .dataframe tbody tr th:only-of-type {\n",
       "        vertical-align: middle;\n",
       "    }\n",
       "\n",
       "    .dataframe tbody tr th {\n",
       "        vertical-align: top;\n",
       "    }\n",
       "\n",
       "    .dataframe thead th {\n",
       "        text-align: right;\n",
       "    }\n",
       "</style>\n",
       "<table border=\"1\" class=\"dataframe\">\n",
       "  <thead>\n",
       "    <tr style=\"text-align: right;\">\n",
       "      <th></th>\n",
       "      <th>City</th>\n",
       "      <th>Lat</th>\n",
       "      <th>Lng</th>\n",
       "      <th>Max Temp</th>\n",
       "      <th>Humidity</th>\n",
       "      <th>Cloudiness</th>\n",
       "      <th>Wind Speed</th>\n",
       "      <th>Country</th>\n",
       "      <th>Date</th>\n",
       "    </tr>\n",
       "  </thead>\n",
       "  <tbody>\n",
       "    <tr>\n",
       "      <td>0</td>\n",
       "      <td>butaritari</td>\n",
       "      <td>3.07</td>\n",
       "      <td>172.79</td>\n",
       "      <td>83.32</td>\n",
       "      <td>74</td>\n",
       "      <td>84</td>\n",
       "      <td>10.42</td>\n",
       "      <td>KI</td>\n",
       "      <td>1593605283</td>\n",
       "    </tr>\n",
       "    <tr>\n",
       "      <td>1</td>\n",
       "      <td>yerbogachen</td>\n",
       "      <td>61.28</td>\n",
       "      <td>108.01</td>\n",
       "      <td>79.52</td>\n",
       "      <td>58</td>\n",
       "      <td>20</td>\n",
       "      <td>7.70</td>\n",
       "      <td>RU</td>\n",
       "      <td>1593605121</td>\n",
       "    </tr>\n",
       "    <tr>\n",
       "      <td>2</td>\n",
       "      <td>cape town</td>\n",
       "      <td>-33.93</td>\n",
       "      <td>18.42</td>\n",
       "      <td>73.00</td>\n",
       "      <td>77</td>\n",
       "      <td>27</td>\n",
       "      <td>4.70</td>\n",
       "      <td>ZA</td>\n",
       "      <td>1593605039</td>\n",
       "    </tr>\n",
       "    <tr>\n",
       "      <td>3</td>\n",
       "      <td>touba</td>\n",
       "      <td>8.28</td>\n",
       "      <td>-7.68</td>\n",
       "      <td>79.97</td>\n",
       "      <td>75</td>\n",
       "      <td>82</td>\n",
       "      <td>3.58</td>\n",
       "      <td>CI</td>\n",
       "      <td>1593605284</td>\n",
       "    </tr>\n",
       "    <tr>\n",
       "      <td>4</td>\n",
       "      <td>jamestown</td>\n",
       "      <td>42.10</td>\n",
       "      <td>-79.24</td>\n",
       "      <td>64.00</td>\n",
       "      <td>88</td>\n",
       "      <td>1</td>\n",
       "      <td>6.93</td>\n",
       "      <td>US</td>\n",
       "      <td>1593605284</td>\n",
       "    </tr>\n",
       "  </tbody>\n",
       "</table>\n",
       "</div>"
      ],
      "text/plain": [
       "          City    Lat     Lng  Max Temp  Humidity  Cloudiness  Wind Speed  \\\n",
       "0   butaritari   3.07  172.79     83.32        74          84       10.42   \n",
       "1  yerbogachen  61.28  108.01     79.52        58          20        7.70   \n",
       "2    cape town -33.93   18.42     73.00        77          27        4.70   \n",
       "3        touba   8.28   -7.68     79.97        75          82        3.58   \n",
       "4    jamestown  42.10  -79.24     64.00        88           1        6.93   \n",
       "\n",
       "  Country        Date  \n",
       "0      KI  1593605283  \n",
       "1      RU  1593605121  \n",
       "2      ZA  1593605039  \n",
       "3      CI  1593605284  \n",
       "4      US  1593605284  "
      ]
     },
     "execution_count": 19,
     "metadata": {},
     "output_type": "execute_result"
    }
   ],
   "source": [
    "# Make a new DataFrame equal to the city data to drop all humidity outliers by index.\n",
    "# Passing \"inplace=False\" will make a copy of the city_data DataFrame, which we call \"clean_city_data\".\n"
   ]
  },
  {
   "cell_type": "code",
   "execution_count": null,
   "metadata": {},
   "outputs": [],
   "source": []
  },
  {
   "cell_type": "markdown",
   "metadata": {},
   "source": [
    "## Plotting the Data\n",
    "* Use proper labeling of the plots using plot titles (including date of analysis) and axes labels.\n",
    "* Save the plotted figures as .pngs."
   ]
  },
  {
   "cell_type": "markdown",
   "metadata": {},
   "source": [
    "## Latitude vs. Temperature Plot"
   ]
  },
  {
   "cell_type": "code",
   "execution_count": 29,
   "metadata": {
    "scrolled": true
   },
   "outputs": [
    {
     "data": {
      "image/png": "[encoded data removed]",
      "text/plain": [
       "<Figure size 432x288 with 1 Axes>"
      ]
     },
     "metadata": {
      "needs_background": "light"
     },
     "output_type": "display_data"
    },
    {
     "name": "stdout",
     "output_type": "stream",
     "text": [
      "This plot shows city latitude vs. the maximum temperature of each city. There is a relationship between latitude and maximum temperature in both the northern and southern hemispheres.\n"
     ]
    },
    {
     "data": {
      "text/plain": [
       "<Figure size 432x288 with 0 Axes>"
      ]
     },
     "metadata": {},
     "output_type": "display_data"
    }
   ],
   "source": [
    "temp1 = weatherpydf[\"Max Temp (F)\"]\n",
    "lat1 = weatherpydf[\"Lat\"]\n",
    "\n",
    "#scatter plot\n",
    "plt.scatter(lat1, temp1, marker='o', edgecolor = 'black')\n",
    "plt.grid()\n",
    "plt.xlabel(\"Latitude\")\n",
    "plt.ylabel(\"Max Temperature (F)\")\n",
    "plt.title(\"City Latitude vs. Max Temperature 08/02/2022\")\n",
    "plt.show()\n",
    "\n",
    "plt.savefig('../output_data/City Latitude vs. MaxTemp.png')\n",
    "\n",
    "print(\"This plot shows city latitude vs. the maximum temperature of each city. There is a relationship between latitude and maximum temperature in both the northern and southern hemispheres.\")"
   ]
  },
  {
   "cell_type": "markdown",
   "metadata": {},
   "source": [
    "## Latitude vs. Humidity Plot"
   ]
  },
  {
   "cell_type": "code",
   "execution_count": 28,
   "metadata": {},
   "outputs": [
    {
     "data": {
      "image/png": "[encoded data removed]",
      "text/plain": [
       "<Figure size 432x288 with 1 Axes>"
      ]
     },
     "metadata": {
      "needs_background": "light"
     },
     "output_type": "display_data"
    },
    {
     "name": "stdout",
     "output_type": "stream",
     "text": [
      "This plot shows city latitude vs. the humidity of each city. There is no relationship between latitude and humidity in either hemisphere.\n"
     ]
    },
    {
     "data": {
      "text/plain": [
       "<Figure size 432x288 with 0 Axes>"
      ]
     },
     "metadata": {},
     "output_type": "display_data"
    }
   ],
   "source": [
    "humidity1 = weatherpydf[\"Humidity (%)\"]\n",
    "\n",
    "plt.scatter(lat1, humidity1, marker='o', edgecolor = 'black')\n",
    "plt.grid()\n",
    "plt.xlabel(\"Latitude\")\n",
    "plt.ylabel(\"Humidity\")\n",
    "plt.title(\"City Latitude vs. Humidity 08/02/2022\")\n",
    "plt.show()\n",
    "\n",
    "plt.savefig('../output_data/City Latitude vs. Humidity.png')\n",
    "\n",
    "print(\"This plot shows city latitude vs. the humidity of each city. There is no relationship between latitude and humidity in either hemisphere.\")"
   ]
  },
  {
   "cell_type": "markdown",
   "metadata": {},
   "source": [
    "## Latitude vs. Cloudiness Plot"
   ]
  },
  {
   "cell_type": "code",
   "execution_count": 31,
   "metadata": {},
   "outputs": [
    {
     "data": {
      "image/png": "[encoded data removed]",
      "text/plain": [
       "<Figure size 432x288 with 1 Axes>"
      ]
     },
     "metadata": {
      "needs_background": "light"
     },
     "output_type": "display_data"
    },
    {
     "name": "stdout",
     "output_type": "stream",
     "text": [
      "This plot shows city latitude vs. the cloudiness of each city. There is no relationship between latitude and cloudiness in either hemisphere.\n"
     ]
    },
    {
     "data": {
      "text/plain": [
       "<Figure size 432x288 with 0 Axes>"
      ]
     },
     "metadata": {},
     "output_type": "display_data"
    }
   ],
   "source": [
    "cloudy1 = weatherpydf[\"Cloudiness (%)\"]\n",
    "\n",
    "plt.scatter(lat1, cloudy1, marker='o', edgecolor = 'black')\n",
    "plt.grid()\n",
    "plt.xlabel(\"Latitude\")\n",
    "plt.ylabel(\"Cloudiness\")\n",
    "plt.title(\"City Latitude vs. Cloudiness 08/02/2022\")\n",
    "plt.show()\n",
    "\n",
    "plt.savefig('../output_data/City Latitude vs. Cloudiness.png')\n",
    "\n",
    "print(\"This plot shows city latitude vs. the cloudiness of each city. There is no relationship between latitude and cloudiness in either hemisphere.\")"
   ]
  },
  {
   "cell_type": "markdown",
   "metadata": {},
   "source": [
    "## Latitude vs. Wind Speed Plot"
   ]
  },
  {
   "cell_type": "code",
   "execution_count": 32,
   "metadata": {},
   "outputs": [
    {
     "data": {
      "image/png": "[encoded data removed]",
      "text/plain": [
       "<Figure size 432x288 with 1 Axes>"
      ]
     },
     "metadata": {
      "needs_background": "light"
     },
     "output_type": "display_data"
    },
    {
     "name": "stdout",
     "output_type": "stream",
     "text": [
      "This plot shows city latitude vs. the wind speed of each city. There is no relationship between latitude and wind speed in either hemisphere.\n"
     ]
    },
    {
     "data": {
      "text/plain": [
       "<Figure size 432x288 with 0 Axes>"
      ]
     },
     "metadata": {},
     "output_type": "display_data"
    }
   ],
   "source": [
    "wind1 = weatherpydf[\"Wind Speed (mph)\"]\n",
    "\n",
    "plt.scatter(lat1, wind1, marker='o', edgecolor = 'black')\n",
    "plt.grid()\n",
    "plt.xlabel(\"Latitude\")\n",
    "plt.ylabel(\"Wind Speed (mph)\")\n",
    "plt.title(\"City Latitude vs. Wind Speed 08/02/2022\")\n",
    "plt.show()\n",
    "\n",
    "plt.savefig('../output_data/City Latitude vs. Wind Speed.png')\n",
    "\n",
    "print(\"This plot shows city latitude vs. the wind speed of each city. There is no relationship between latitude and wind speed in either hemisphere.\")"
   ]
  },
  {
   "cell_type": "markdown",
   "metadata": {},
   "source": [
    "## Linear Regression"
   ]
  },
  {
   "cell_type": "code",
   "execution_count": 15,
   "metadata": {},
   "outputs": [],
   "source": [
    "#create northern hemisphere dataframe\n",
    "weatherpynorth = weatherpydf[weatherpydf['Lat']>= 0]\n",
    "\n",
    "\n",
    "#make southern hemisphere dataframe\n",
    "weatherpysouth = weatherpydf[weatherpydf['Lat']< 0]\n"
   ]
  },
  {
   "cell_type": "markdown",
   "metadata": {},
   "source": [
    "####  Northern Hemisphere - Max Temp vs. Latitude Linear Regression"
   ]
  },
  {
   "cell_type": "code",
   "execution_count": 33,
   "metadata": {},
   "outputs": [
    {
     "data": {
      "image/png": "[encoded data removed]",
      "text/plain": [
       "<Figure size 432x288 with 1 Axes>"
      ]
     },
     "metadata": {
      "needs_background": "light"
     },
     "output_type": "display_data"
    },
    {
     "name": "stdout",
     "output_type": "stream",
     "text": [
      "This plot shows city latitude vs the maximum temperature of each city analyzed in the northern hemisphere. There is a negative correlation between latitude and maximum temperature.\n"
     ]
    },
    {
     "data": {
      "text/plain": [
       "<Figure size 432x288 with 0 Axes>"
      ]
     },
     "metadata": {},
     "output_type": "display_data"
    }
   ],
   "source": [
    "temp2 = weatherpynorth[\"Max Temp (F)\"]\n",
    "lat2 = weatherpynorth[\"Lat\"]\n",
    "\n",
    "\n",
    "#linear regression\n",
    "(slope, intercept, rvalue, pvalue, stderr) = linregress(lat2, temp2)\n",
    "regress_values = lat2 * slope + intercept\n",
    "line_eq = 'y = ' + str(round(slope,2)) + 'x + ' + str(round(intercept,2))\n",
    "\n",
    "plt.scatter(lat2, temp2, marker='o', color='blue')\n",
    "plt.plot(lat2,regress_values,'red')\n",
    "\n",
    "plt.title('Northern Hemisphere - City Latitude vs Max Temperature')\n",
    "plt.ylabel('Max Temperature (F)')\n",
    "plt.xlabel('Latitude')\n",
    "plt.annotate(line_eq,(50,100), color='red', fontsize=10)\n",
    "plt.show()\n",
    "\n",
    "plt.savefig('../output_data/Northern Hemisphere - City Latitude vs. MaxTemp.png')\n",
    "\n",
    "print(\"This plot shows city latitude vs the maximum temperature of each city analyzed in the northern hemisphere. There is a negative correlation between latitude and maximum temperature.\")"
   ]
  },
  {
   "cell_type": "markdown",
   "metadata": {},
   "source": [
    "####  Southern Hemisphere - Max Temp vs. Latitude Linear Regression"
   ]
  },
  {
   "cell_type": "code",
   "execution_count": 34,
   "metadata": {},
   "outputs": [
    {
     "data": {
      "image/png": "[encoded data removed]",
      "text/plain": [
       "<Figure size 432x288 with 1 Axes>"
      ]
     },
     "metadata": {
      "needs_background": "light"
     },
     "output_type": "display_data"
    },
    {
     "name": "stdout",
     "output_type": "stream",
     "text": [
      "This plot shows city latitude vs the maximum temperature of each city analyzed in the southern hemisphere. There is a positive correlation between latitude and maximum temperature.\n"
     ]
    },
    {
     "data": {
      "text/plain": [
       "<Figure size 432x288 with 0 Axes>"
      ]
     },
     "metadata": {},
     "output_type": "display_data"
    }
   ],
   "source": [
    "temp3 = weatherpysouth[\"Max Temp (F)\"]\n",
    "lat3 = weatherpysouth[\"Lat\"]\n",
    "\n",
    "\n",
    "\n",
    "(slope, intercept, rvalue, pvalue, stderr) = linregress(lat3, temp3)\n",
    "regress_values = lat3 * slope + intercept\n",
    "line_eq = 'y = ' + str(round(slope,2)) + 'x + ' + str(round(intercept,2))\n",
    "\n",
    "plt.scatter(lat3, temp3, marker='o', color='blue')\n",
    "plt.plot(lat3,regress_values,'red')\n",
    "\n",
    "plt.title('Southern Hemisphere - City Latitude vs Max Temperature')\n",
    "plt.ylabel('Max Temperature (F)')\n",
    "plt.xlabel('Latitude')\n",
    "plt.annotate(line_eq,(-50,70), color='red', fontsize=10)\n",
    "plt.show()\n",
    "\n",
    "plt.savefig('../output_data/Southern Hemisphere - City Latitude vs. MaxTemp.png')\n",
    "print(\"This plot shows city latitude vs the maximum temperature of each city analyzed in the southern hemisphere. There is a positive correlation between latitude and maximum temperature.\")"
   ]
  },
  {
   "cell_type": "markdown",
   "metadata": {},
   "source": [
    "####  Northern Hemisphere - Humidity (%) vs. Latitude Linear Regression"
   ]
  },
  {
   "cell_type": "code",
   "execution_count": 35,
   "metadata": {},
   "outputs": [
    {
     "data": {
      "image/png": "[encoded data removed]",
      "text/plain": [
       "<Figure size 432x288 with 1 Axes>"
      ]
     },
     "metadata": {
      "needs_background": "light"
     },
     "output_type": "display_data"
    },
    {
     "name": "stdout",
     "output_type": "stream",
     "text": [
      "This plot shows city latitude vs the humidity of each city analyzed in the northern hemisphere. There is little to no correlation between latitude and humidity.\n"
     ]
    },
    {
     "data": {
      "text/plain": [
       "<Figure size 432x288 with 0 Axes>"
      ]
     },
     "metadata": {},
     "output_type": "display_data"
    }
   ],
   "source": [
    "hum2 = weatherpynorth[\"Humidity (%)\"]\n",
    "lat2 = weatherpynorth[\"Lat\"]\n",
    "\n",
    "\n",
    "\n",
    "(slope, intercept, rvalue, pvalue, stderr) = linregress(lat2, hum2)\n",
    "regress_values = lat2 * slope + intercept\n",
    "line_eq = 'y = ' + str(round(slope,2)) + 'x + ' + str(round(intercept,2))\n",
    "\n",
    "plt.scatter(lat2, hum2, marker='o', color='blue')\n",
    "plt.plot(lat2,regress_values,'red')\n",
    "\n",
    "plt.title('Northern Hemisphere - City Latitude vs Humidity')\n",
    "plt.ylabel('Humidity (%)')\n",
    "plt.xlabel('Latitude')\n",
    "plt.annotate(line_eq,(50,20), color='red', fontsize=10)\n",
    "plt.show()\n",
    "\n",
    "plt.savefig('../output_data/Northern Hemisphere - City Latitude vs. Humidity.png')\n",
    "print(\"This plot shows city latitude vs the humidity of each city analyzed in the northern hemisphere. There is little to no correlation between latitude and humidity.\")"
   ]
  },
  {
   "cell_type": "markdown",
   "metadata": {},
   "source": [
    "####  Southern Hemisphere - Humidity (%) vs. Latitude Linear Regression"
   ]
  },
  {
   "cell_type": "code",
   "execution_count": 36,
   "metadata": {},
   "outputs": [
    {
     "data": {
      "image/png": "[encoded data removed]",
      "text/plain": [
       "<Figure size 432x288 with 1 Axes>"
      ]
     },
     "metadata": {
      "needs_background": "light"
     },
     "output_type": "display_data"
    },
    {
     "name": "stdout",
     "output_type": "stream",
     "text": [
      "This plot shows city latitude vs the humidity of each city analyzed in the southern hemisphere. There is little to no correlation between latitude and humidity.\n"
     ]
    },
    {
     "data": {
      "text/plain": [
       "<Figure size 432x288 with 0 Axes>"
      ]
     },
     "metadata": {},
     "output_type": "display_data"
    }
   ],
   "source": [
    "hum3 = weatherpysouth[\"Humidity (%)\"]\n",
    "lat3 = weatherpysouth[\"Lat\"]\n",
    "\n",
    "\n",
    "\n",
    "(slope, intercept, rvalue, pvalue, stderr) = linregress(lat3, hum3)\n",
    "regress_values = lat3 * slope + intercept\n",
    "line_eq = 'y = ' + str(round(slope,2)) + 'x + ' + str(round(intercept,2))\n",
    "\n",
    "plt.scatter(lat3, hum3, marker='o', color='blue')\n",
    "plt.plot(lat3,regress_values,'red')\n",
    "\n",
    "plt.title('Southern Hemisphere - City Latitude vs Humidity')\n",
    "plt.ylabel('Humidity (%)')\n",
    "plt.xlabel('Latitude')\n",
    "plt.annotate(line_eq,(-40,30), color='red', fontsize=10)\n",
    "plt.show()\n",
    "\n",
    "plt.savefig('../output_data/Southern Hemisphere - City Latitude vs. Humidity.png')\n",
    "\n",
    "print(\"This plot shows city latitude vs the humidity of each city analyzed in the southern hemisphere. There is little to no correlation between latitude and humidity.\")"
   ]
  },
  {
   "cell_type": "markdown",
   "metadata": {},
   "source": [
    "####  Northern Hemisphere - Cloudiness (%) vs. Latitude Linear Regression"
   ]
  },
  {
   "cell_type": "code",
   "execution_count": 37,
   "metadata": {},
   "outputs": [
    {
     "data": {
      "image/png": "[encoded data removed]",
      "text/plain": [
       "<Figure size 432x288 with 1 Axes>"
      ]
     },
     "metadata": {
      "needs_background": "light"
     },
     "output_type": "display_data"
    },
    {
     "name": "stdout",
     "output_type": "stream",
     "text": [
      "This plot shows city latitude vs the cloudiness of each city analyzed in the northern hemisphere. There is little to no correlation between latitude and cloudiness.\n"
     ]
    },
    {
     "data": {
      "text/plain": [
       "<Figure size 432x288 with 0 Axes>"
      ]
     },
     "metadata": {},
     "output_type": "display_data"
    }
   ],
   "source": [
    "cloud2 = weatherpynorth[\"Cloudiness (%)\"]\n",
    "lat2 = weatherpynorth[\"Lat\"]\n",
    "\n",
    "\n",
    "\n",
    "(slope, intercept, rvalue, pvalue, stderr) = linregress(lat2, cloud2)\n",
    "regress_values = lat2 * slope + intercept\n",
    "line_eq = 'y = ' + str(round(slope,2)) + 'x + ' + str(round(intercept,2))\n",
    "\n",
    "plt.scatter(lat2, cloud2, marker='o', color='blue')\n",
    "plt.plot(lat2,regress_values,'red')\n",
    "\n",
    "plt.title('Northern Hemisphere - City Latitude vs Cloudiness')\n",
    "plt.ylabel('Cloudiness (%)')\n",
    "plt.xlabel('Latitude')\n",
    "plt.annotate(line_eq,(70,20), color='red', fontsize=10)\n",
    "plt.show()\n",
    "# print(f'The r-value is: {round(rvalue**2,2)}')\n",
    "\n",
    "plt.savefig('../output_data/Northern Hemisphere - City Latitude vs. Cloudiness.png')\n",
    "\n",
    "print(\"This plot shows city latitude vs the cloudiness of each city analyzed in the northern hemisphere. There is little to no correlation between latitude and cloudiness.\")"
   ]
  },
  {
   "cell_type": "markdown",
   "metadata": {},
   "source": [
    "####  Southern Hemisphere - Cloudiness (%) vs. Latitude Linear Regression"
   ]
  },
  {
   "cell_type": "code",
   "execution_count": 39,
   "metadata": {},
   "outputs": [
    {
     "data": {
      "image/png": "[encoded data removed]",
      "text/plain": [
       "<Figure size 432x288 with 1 Axes>"
      ]
     },
     "metadata": {
      "needs_background": "light"
     },
     "output_type": "display_data"
    },
    {
     "name": "stdout",
     "output_type": "stream",
     "text": [
      "This plot shows city latitude vs the cloudiness of each city analyzed in the southern hemisphere. There is little to no correlation between latitude and cloudiness.\n"
     ]
    },
    {
     "data": {
      "text/plain": [
       "<Figure size 432x288 with 0 Axes>"
      ]
     },
     "metadata": {},
     "output_type": "display_data"
    }
   ],
   "source": [
    "cloud3 = weatherpysouth[\"Cloudiness (%)\"]\n",
    "lat3 = weatherpysouth[\"Lat\"]\n",
    "\n",
    "\n",
    "\n",
    "(slope, intercept, rvalue, pvalue, stderr) = linregress(lat3, cloud3)\n",
    "regress_values = lat3 * slope + intercept\n",
    "line_eq = 'y = ' + str(round(slope,2)) + 'x + ' + str(round(intercept,2))\n",
    "\n",
    "plt.scatter(lat3, cloud3, marker='o', color='blue')\n",
    "plt.plot(lat3,regress_values,'red')\n",
    "\n",
    "plt.title('Southern Hemisphere - City Latitude vs Cloudiness')\n",
    "plt.ylabel('Cloudiness (%)')\n",
    "plt.xlabel('Latitude')\n",
    "plt.annotate(line_eq,(-55,45), color='red', fontsize=10)\n",
    "plt.show()\n",
    "\n",
    "plt.savefig('../output_data/Southern Hemisphere - City Latitude vs. Cloudiness.png')\n",
    "\n",
    "print(\"This plot shows city latitude vs the cloudiness of each city analyzed in the southern hemisphere. There is little to no correlation between latitude and cloudiness.\")"
   ]
  },
  {
   "cell_type": "markdown",
   "metadata": {},
   "source": [
    "####  Northern Hemisphere - Wind Speed (mph) vs. Latitude Linear Regression"
   ]
  },
  {
   "cell_type": "code",
   "execution_count": 40,
   "metadata": {},
   "outputs": [
    {
     "data": {
      "image/png": "[encoded data removed]",
      "text/plain": [
       "<Figure size 432x288 with 1 Axes>"
      ]
     },
     "metadata": {
      "needs_background": "light"
     },
     "output_type": "display_data"
    },
    {
     "name": "stdout",
     "output_type": "stream",
     "text": [
      "This plot shows city latitude vs the wind speed of each city analyzed in the northern hemisphere. There is little to no correlation between latitude and wind speed.\n"
     ]
    },
    {
     "data": {
      "text/plain": [
       "<Figure size 432x288 with 0 Axes>"
      ]
     },
     "metadata": {},
     "output_type": "display_data"
    }
   ],
   "source": [
    "wind2 = weatherpynorth[\"Wind Speed (mph)\"]\n",
    "lat2 = weatherpynorth[\"Lat\"]\n",
    "\n",
    "\n",
    "\n",
    "(slope, intercept, rvalue, pvalue, stderr) = linregress(lat2, wind2)\n",
    "regress_values = lat2 * slope + intercept\n",
    "line_eq = 'y = ' + str(round(slope,2)) + 'x + ' + str(round(intercept,2))\n",
    "\n",
    "plt.scatter(lat2, wind2, marker='o', color='blue')\n",
    "plt.plot(lat2,regress_values,'red')\n",
    "\n",
    "plt.title('Northern Hemisphere - City Latitude vs Wind Speed')\n",
    "plt.ylabel('Wind Speed (mph)')\n",
    "plt.xlabel('Latitude')\n",
    "plt.annotate(line_eq,(50,25), color='red', fontsize=10)\n",
    "plt.show()\n",
    "\n",
    "# print(f'The r-value is: {round(rvalue**2,2)}')\n",
    "\n",
    "plt.savefig('../output_data/Northern Hemisphere - City Latitude vs. Wind Speed.png')\n",
    "\n",
    "print(\"This plot shows city latitude vs the wind speed of each city analyzed in the northern hemisphere. There is little to no correlation between latitude and wind speed.\")"
   ]
  },
  {
   "cell_type": "markdown",
   "metadata": {},
   "source": [
    "####  Southern Hemisphere - Wind Speed (mph) vs. Latitude Linear Regression"
   ]
  },
  {
   "cell_type": "code",
   "execution_count": 41,
   "metadata": {},
   "outputs": [
    {
     "data": {
      "image/png": "[encoded data removed]",
      "text/plain": [
       "<Figure size 432x288 with 1 Axes>"
      ]
     },
     "metadata": {
      "needs_background": "light"
     },
     "output_type": "display_data"
    },
    {
     "name": "stdout",
     "output_type": "stream",
     "text": [
      "This plot shows city latitude vs the wind speed of each city analyzed in the southern hemisphere. There is little to no correlation between latitude and wind speed.\n"
     ]
    },
    {
     "data": {
      "text/plain": [
       "<Figure size 432x288 with 0 Axes>"
      ]
     },
     "metadata": {},
     "output_type": "display_data"
    }
   ],
   "source": [
    "wind3 = weatherpysouth[\"Wind Speed (mph)\"]\n",
    "lat3 = weatherpysouth[\"Lat\"]\n",
    "\n",
    "\n",
    "\n",
    "(slope, intercept, rvalue, pvalue, stderr) = linregress(lat3, wind3)\n",
    "regress_values = lat3 * slope + intercept\n",
    "line_eq = 'y = ' + str(round(slope,2)) + 'x + ' + str(round(intercept,2))\n",
    "\n",
    "plt.scatter(lat3, wind3, marker='o', color='blue')\n",
    "plt.plot(lat3,regress_values,'red')\n",
    "\n",
    "plt.title('Southern Hemisphere - City Latitude vs Wind Speed')\n",
    "plt.ylabel('Wind Speed (mph)')\n",
    "plt.xlabel('Latitude')\n",
    "plt.annotate(line_eq,(-45,25), color='red', fontsize=10)\n",
    "plt.show()\n",
    "\n",
    "plt.savefig('../output_data/Southern Hemisphere - City Latitude vs. Wind Speed.png')\n",
    "\n",
    "print(\"This plot shows city latitude vs the wind speed of each city analyzed in the southern hemisphere. There is little to no correlation between latitude and wind speed.\")"
   ]
  },
  {
   "cell_type": "code",
   "execution_count": null,
   "metadata": {},
   "outputs": [],
   "source": []
  }
 ],
 "metadata": {
  "anaconda-cloud": {},
  "kernel_info": {
   "name": "python3"
  },
  "kernelspec": {
   "display_name": "Python 3 (ipykernel)",
   "language": "python",
   "name": "python3"
  },
  "language_info": {
   "codemirror_mode": {
    "name": "ipython",
    "version": 3
   },
   "file_extension": ".py",
   "mimetype": "text/x-python",
   "name": "python",
   "nbconvert_exporter": "python",
   "pygments_lexer": "ipython3",
   "version": "3.9.12"
  },
  "latex_envs": {
   "LaTeX_envs_menu_present": true,
   "autoclose": false,
   "autocomplete": true,
   "bibliofile": "biblio.bib",
   "cite_by": "apalike",
   "current_citInitial": 1,
   "eqLabelWithNumbers": true,
   "eqNumInitial": 1,
   "hotkeys": {
    "equation": "Ctrl-E",
    "itemize": "Ctrl-I"
   },
   "labels_anchors": false,
   "latex_user_defs": false,
   "report_style_numbering": false,
   "user_envs_cfg": false
  },
  "nteract": {
   "version": "0.12.3"
  }
 },
 "nbformat": 4,
 "nbformat_minor": 2
}
